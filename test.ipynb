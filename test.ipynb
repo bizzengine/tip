{
 "cells": [
  {
   "cell_type": "code",
   "execution_count": 2,
   "id": "883d8245-2917-4ac3-ad95-e1e3800d5e4e",
   "metadata": {},
   "outputs": [],
   "source": [
    "def test(add):\n",
    "    add = 1 + 2\n",
    "    return add"
   ]
  },
  {
   "cell_type": "code",
   "execution_count": null,
   "id": "1dfdb1ae-0221-4cb8-b6be-afee2b03a84b",
   "metadata": {},
   "outputs": [],
   "source": []
  }
 ],
 "metadata": {
  "kernelspec": {
   "display_name": "Python 3 (ipykernel)",
   "language": "python",
   "name": "python3"
  },
  "language_info": {
   "codemirror_mode": {
    "name": "ipython",
    "version": 3
   },
   "file_extension": ".py",
   "mimetype": "text/x-python",
   "name": "python",
   "nbconvert_exporter": "python",
   "pygments_lexer": "ipython3",
   "version": "3.7.11"
  },
  "toc-autonumbering": true,
  "toc-showmarkdowntxt": true
 },
 "nbformat": 4,
 "nbformat_minor": 5
}
